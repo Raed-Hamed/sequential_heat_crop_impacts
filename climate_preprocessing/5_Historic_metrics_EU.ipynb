{
 "cells": [
  {
   "cell_type": "markdown",
   "id": "d8075b2d",
   "metadata": {},
   "source": [
    "# Computation of historic metrics for the continental US"
   ]
  },
  {
   "cell_type": "code",
   "execution_count": 1,
   "id": "df91b601",
   "metadata": {},
   "outputs": [],
   "source": [
    "import os\n",
    "import sys\n",
    "import pathlib\n",
    "from pathlib import Path\n",
    "import json\n",
    "\n",
    "dir_preprocessing = os.path.join(str(pathlib.Path().resolve()))\n",
    "sys.path.append(dir_preprocessing)\n",
    "\n",
    "import functions as fct"
   ]
  },
  {
   "cell_type": "code",
   "execution_count": 2,
   "id": "390af93e",
   "metadata": {},
   "outputs": [],
   "source": [
    "geo_area = 'eu'\n",
    "\n",
    "with open(f'config_{geo_area}.json', 'r') as file:\n",
    "    config_data = json.load(file)"
   ]
  },
  {
   "cell_type": "markdown",
   "id": "84a76e5a",
   "metadata": {},
   "source": [
    "CROPS_DICT contains the seasons in function of the different crops for the selected geographical area:"
   ]
  },
  {
   "cell_type": "code",
   "execution_count": 3,
   "id": "f2d02b52",
   "metadata": {},
   "outputs": [
    {
     "name": "stdout",
     "output_type": "stream",
     "text": [
      "['wheat', 'maize', 'sunflower']\n"
     ]
    }
   ],
   "source": [
    "crops_dict = config_data['study_area']['crops_dict']\n",
    "crops = list(config_data['study_area']['crops_dict'].keys())\n",
    "print(crops)"
   ]
  },
  {
   "cell_type": "markdown",
   "id": "0d611f8f",
   "metadata": {},
   "source": [
    "## Mean temperature in spring and summer"
   ]
  },
  {
   "cell_type": "markdown",
   "id": "b5171d27",
   "metadata": {},
   "source": [
    "Create dataset containing monthly values for the entire time period and all pre-defined temperature metrics:"
   ]
  },
  {
   "cell_type": "code",
   "execution_count": null,
   "id": "b152dac6",
   "metadata": {},
   "outputs": [
    {
     "name": "stdout",
     "output_type": "stream",
     "text": [
      "Processing file tmax.1980.nc\n",
      "Processing file tmax.1981.nc\n",
      "Processing file tmax.1982.nc\n",
      "Processing file tmax.1983.nc\n",
      "Processing file tmax.1984.nc\n",
      "Processing file tmax.1985.nc\n",
      "Processing file tmax.1986.nc\n",
      "Processing file tmax.1987.nc\n",
      "Processing file tmax.1988.nc\n",
      "Processing file tmax.1989.nc\n",
      "Processing file tmax.1990.nc\n",
      "Processing file tmax.1991.nc\n",
      "Processing file tmax.1992.nc\n",
      "Processing file tmax.1993.nc\n",
      "Processing file tmax.1994.nc\n",
      "Processing file tmax.1995.nc\n",
      "Processing file tmax.1996.nc\n",
      "Processing file tmax.1997.nc\n",
      "Processing file tmax.1998.nc\n",
      "Processing file tmax.1999.nc\n",
      "Processing file tmax.2000.nc\n",
      "Processing file tmax.2001.nc\n",
      "Processing file tmax.2002.nc\n",
      "Processing file tmax.2003.nc\n",
      "Processing file tmax.2004.nc\n",
      "Processing file tmax.2005.nc\n",
      "Processing file tmax.2006.nc\n",
      "Processing file tmax.2007.nc\n",
      "Processing file tmax.2008.nc\n",
      "Processing file tmax.2009.nc\n",
      "Processing file tmax.2010.nc\n",
      "Processing file tmax.2011.nc\n",
      "Processing file tmax.2012.nc\n",
      "Processing file tmax.2013.nc\n",
      "Processing file tmax.2014.nc\n",
      "Processing file tmax.2015.nc\n",
      "Processing file tmax.2016.nc\n",
      "Processing file tmax.2017.nc\n",
      "Processing file tmax.2018.nc\n",
      "Processing file tmax.2019.nc\n"
     ]
    }
   ],
   "source": [
    "tasmax_data_path = Path(config_data['input']['tasmax'])\n",
    "lon = config_data['study_area']['lon']\n",
    "lat_orig = config_data['study_area']['lat']\n",
    "lat = [lat_orig[1], lat_orig[0]]\n",
    "months = config_data['study_area']['months']\n",
    "years = config_data['study_area']['his_years']\n",
    "t_monthly = fct.monthly_means_from_annual_files(tasmax_data_path, lon, lat, months, years, \n",
    "                                                    save=True, filenames_dict=config_data)"
   ]
  },
  {
   "cell_type": "code",
   "execution_count": null,
   "id": "4d82209c",
   "metadata": {},
   "outputs": [],
   "source": [
    "t_monthly"
   ]
  },
  {
   "cell_type": "code",
   "execution_count": null,
   "id": "59b10ed8",
   "metadata": {},
   "outputs": [],
   "source": [
    "t_annual = fct.annual_seasonal_means(t_monthly, crops_dict, True, config_data)"
   ]
  },
  {
   "cell_type": "code",
   "execution_count": null,
   "id": "7dc83a4c",
   "metadata": {},
   "outputs": [],
   "source": [
    "t_annual['maize_spring'].isel(year=0).plot()"
   ]
  },
  {
   "cell_type": "markdown",
   "id": "ff98a6ee",
   "metadata": {},
   "source": [
    "## Mean soil moisture in spring and summer"
   ]
  },
  {
   "cell_type": "code",
   "execution_count": null,
   "id": "efc05f5b",
   "metadata": {},
   "outputs": [],
   "source": [
    "variable = 'SMroot'\n",
    "output_file = config_data['calc_his']['annual_file'].format(variable=variable)\n",
    "sm_annual = fct.metrics_from_timperiod(Path(config_data['input']['gleam']), lon, \n",
    "                                           lat, crops_dict, variable, output_file)"
   ]
  },
  {
   "cell_type": "code",
   "execution_count": null,
   "id": "f4c84930",
   "metadata": {},
   "outputs": [],
   "source": [
    "sm_annual"
   ]
  },
  {
   "cell_type": "code",
   "execution_count": null,
   "id": "79b4f69d",
   "metadata": {},
   "outputs": [],
   "source": [
    "sm_annual['maize_spring'].isel(year=0).plot()"
   ]
  }
 ],
 "metadata": {
  "kernelspec": {
   "display_name": "Python 3 (ipykernel)",
   "language": "python",
   "name": "python3"
  },
  "language_info": {
   "codemirror_mode": {
    "name": "ipython",
    "version": 3
   },
   "file_extension": ".py",
   "mimetype": "text/x-python",
   "name": "python",
   "nbconvert_exporter": "python",
   "pygments_lexer": "ipython3",
   "version": "3.9.16"
  }
 },
 "nbformat": 4,
 "nbformat_minor": 5
}
