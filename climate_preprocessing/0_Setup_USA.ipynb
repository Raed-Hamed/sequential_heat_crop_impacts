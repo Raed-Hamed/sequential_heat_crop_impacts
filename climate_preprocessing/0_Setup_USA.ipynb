{
 "cells": [
  {
   "cell_type": "code",
   "execution_count": 1,
   "id": "4deb8179",
   "metadata": {},
   "outputs": [],
   "source": [
    "import os\n",
    "import sys\n",
    "import pathlib\n",
    "from pathlib import Path\n",
    "import numpy as np\n",
    "\n",
    "dir_preprocessing = os.path.join(str(pathlib.Path().resolve()))\n",
    "sys.path.append(dir_preprocessing)\n",
    "\n",
    "import functions_config as fct_config\n",
    "\n",
    "dir_data = os.path.join(dir_preprocessing, 'data')"
   ]
  },
  {
   "cell_type": "code",
   "execution_count": 2,
   "id": "e99aaf51",
   "metadata": {},
   "outputs": [
    {
     "name": "stdout",
     "output_type": "stream",
     "text": [
      "The data directory is: /Users/carmenst/Documents/CLIMADA/own_projects/sequential_heat_crop_impacts/climate_preprocessing/data\n"
     ]
    }
   ],
   "source": [
    "print('The data directory is:', dir_data)"
   ]
  },
  {
   "cell_type": "markdown",
   "id": "95c2d8c4",
   "metadata": {},
   "source": [
    "Define the months of interest and the latitude and longitude bounds for the study region. The crops dictionary contains the different months and thresholds considered for the respective crops."
   ]
  },
  {
   "cell_type": "code",
   "execution_count": 3,
   "id": "d663c37a",
   "metadata": {},
   "outputs": [],
   "source": [
    "months = np.arange(3,9).tolist()\n",
    "lon_bounds = [-125, -66]\n",
    "lat_bounds = [24, 50]\n",
    "geo_area = 'us'\n",
    "his_year = (1980, 2022)\n",
    "nr_years_delta = 40\n",
    "quantiles = [0.5, 0.75, 0.9]"
   ]
  },
  {
   "cell_type": "markdown",
   "id": "caa5885b",
   "metadata": {},
   "source": [
    "print(months)"
   ]
  },
  {
   "cell_type": "code",
   "execution_count": 4,
   "id": "d95cc5d9",
   "metadata": {},
   "outputs": [],
   "source": [
    "config_data = fct_config.create_config(dir_data, geo_area, months, lon_bounds, lat_bounds, his_year, \n",
    "                                nr_years_delta, quantiles)"
   ]
  },
  {
   "cell_type": "code",
   "execution_count": 5,
   "id": "74de6383",
   "metadata": {},
   "outputs": [
    {
     "data": {
      "text/plain": [
       "{'input': {'tasmax': '/Users/carmenst/Documents/CLIMADA/own_projects/sequential_heat_crop_impacts/climate_preprocessing/data/input/CPC',\n",
       "  'gleam': '/Users/carmenst/Documents/CLIMADA/own_projects/sequential_heat_crop_impacts/climate_preprocessing/data/input/SMroot_1980-2021_GLEAM_v3.6a_daily_remap05.nc',\n",
       "  'shape_crop': '/Users/carmenst/Documents/CLIMADA/own_projects/sequential_heat_crop_impacts/climate_preprocessing/data/input/shapefiles/us_{crop}_shapefile/us_{crop}_cropping_regions.shp',\n",
       "  'dir_cmip_var': '/Users/carmenst/Documents/CLIMADA/own_projects/sequential_heat_crop_impacts/climate_preprocessing/data/input/CMIP6/{variable}'},\n",
       " 'study_area': {'geo_area': 'us',\n",
       "  'crops_dict': {'wheat': {'spring': [3, 4], 'summer': [5, 6]},\n",
       "   'maize': {'spring': [5, 6], 'summer': [7, 8]},\n",
       "   'soybean': {'spring': [5, 6], 'summer': [7, 8]}},\n",
       "  'months': [3, 4, 5, 6, 7, 8],\n",
       "  'lon': [-125, -66],\n",
       "  'lat': [24, 50],\n",
       "  'his_years': (1980, 2022),\n",
       "  'nr_years': 40,\n",
       "  'quantiles': [0.5, 0.75, 0.9]},\n",
       " 'calc_his': {'dir_calc_his': '/Users/carmenst/Documents/CLIMADA/own_projects/sequential_heat_crop_impacts/climate_preprocessing/data/output/calc/historic',\n",
       "  'monthly_file': '/Users/carmenst/Documents/CLIMADA/own_projects/sequential_heat_crop_impacts/climate_preprocessing/data/output/calc/historic/{variable}_monthly_us.nc',\n",
       "  'annual_file': '/Users/carmenst/Documents/CLIMADA/own_projects/sequential_heat_crop_impacts/climate_preprocessing/data/output/calc/historic/{variable}_annaul_us.nc',\n",
       "  'dir_geo': '/Users/carmenst/Documents/CLIMADA/own_projects/sequential_heat_crop_impacts/climate_preprocessing/data/output/us',\n",
       "  'dir_geo_crop': '/Users/carmenst/Documents/CLIMADA/own_projects/sequential_heat_crop_impacts/climate_preprocessing/data/output/us/{crop}',\n",
       "  'csv_his': '/Users/carmenst/Documents/CLIMADA/own_projects/sequential_heat_crop_impacts/climate_preprocessing/data/output/us/{crop}/historic_{crop}_us.csv'},\n",
       " 'calc_cmip6_grid': {'dir_calc_cmip6': '/Users/carmenst/Documents/CLIMADA/own_projects/sequential_heat_crop_impacts/climate_preprocessing/data/output/calc/future',\n",
       "  'dir_calc_cmip6grid': '/Users/carmenst/Documents/CLIMADA/own_projects/sequential_heat_crop_impacts/climate_preprocessing/data/output/calc/future/CMIP6_grid',\n",
       "  'dir_delta': '/Users/carmenst/Documents/CLIMADA/own_projects/sequential_heat_crop_impacts/climate_preprocessing/data/output/calc/future/CMIP6_grid/delta_{variable}',\n",
       "  'dir_frequency': '/Users/carmenst/Documents/CLIMADA/own_projects/sequential_heat_crop_impacts/climate_preprocessing/data/output/calc/future/CMIP6_grid/frequency_percentile_{percentile}',\n",
       "  'delta_per_model': '/Users/carmenst/Documents/CLIMADA/own_projects/sequential_heat_crop_impacts/climate_preprocessing/data/output/calc/future/CMIP6_grid/delta_{variable}/{model}_{variable}_delta.nc',\n",
       "  'frequency_per_model': '/Users/carmenst/Documents/CLIMADA/own_projects/sequential_heat_crop_impacts/climate_preprocessing/data/output/calc/future/CMIP6_grid/frequency_percentile_{percentile}/{model}_{variable}_frequency_{percentile}.nc'},\n",
       " 'calc_cmip6_counties': {'dir_delta_county': '/Users/carmenst/Documents/CLIMADA/own_projects/sequential_heat_crop_impacts/climate_preprocessing/data/output/calc/future/Per_county/{crop}/delta_{variable}',\n",
       "  'dir_frequency_county': '/Users/carmenst/Documents/CLIMADA/own_projects/sequential_heat_crop_impacts/climate_preprocessing/data/output/calc/future/CMIP6_grid/frequency_percentile_{percentile}',\n",
       "  'dir_calc_cmip6_county_crop': '/Users/carmenst/Documents/CLIMADA/own_projects/sequential_heat_crop_impacts/climate_preprocessing/data/output/calc/future/Per_county/{crop}',\n",
       "  'delta_per_model_county': '/Users/carmenst/Documents/CLIMADA/own_projects/sequential_heat_crop_impacts/climate_preprocessing/data/output/calc/future/Per_county/{crop}/delta_{variable}/{model}_{variable}_delta.csv',\n",
       "  'frequency_per_model_county': '/Users/carmenst/Documents/CLIMADA/own_projects/sequential_heat_crop_impacts/climate_preprocessing/data/output/calc/future/CMIP6_grid/frequency_percentile_{percentile}/{model}_{variable}_frequency_{percentile}.csv',\n",
       "  'csv_fut': '/Users/carmenst/Documents/CLIMADA/own_projects/sequential_heat_crop_impacts/climate_preprocessing/data/output/us/{crop}/cmip6_{crop}_us.csv'}}"
      ]
     },
     "execution_count": 5,
     "metadata": {},
     "output_type": "execute_result"
    }
   ],
   "source": [
    "config_data"
   ]
  },
  {
   "cell_type": "code",
   "execution_count": null,
   "id": "71537c21",
   "metadata": {},
   "outputs": [],
   "source": []
  }
 ],
 "metadata": {
  "kernelspec": {
   "display_name": "Python 3 (ipykernel)",
   "language": "python",
   "name": "python3"
  },
  "language_info": {
   "codemirror_mode": {
    "name": "ipython",
    "version": 3
   },
   "file_extension": ".py",
   "mimetype": "text/x-python",
   "name": "python",
   "nbconvert_exporter": "python",
   "pygments_lexer": "ipython3",
   "version": "3.9.16"
  }
 },
 "nbformat": 4,
 "nbformat_minor": 5
}
